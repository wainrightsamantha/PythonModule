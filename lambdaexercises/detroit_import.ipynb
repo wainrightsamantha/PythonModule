{
 "cells": [
  {
   "cell_type": "code",
   "execution_count": 17,
   "metadata": {
    "azdata_cell_guid": "32ce8d3b-9f74-4443-9b50-4ca9cfde2c5d",
    "language": "python",
    "tags": []
   },
   "outputs": [],
   "source": [
    "import csv\n",
    "\n",
    "def get_file():\n",
    "    global detroitloc\n",
    "    global dict_list\n",
    "\n",
    "    detroitloc = (r'data/911_last_30_days.csv')\n",
    "    reader = csv.DictReader(open('911_last_30_days.csv', 'r'))\n",
    "    dict_list = []\n",
    "    for line in reader:\n",
    "        dict_list.append(line)\n"
   ]
  },
  {
   "cell_type": "code",
   "execution_count": 19,
   "metadata": {
    "azdata_cell_guid": "17a0c2d9-f61a-4379-b3e5-7370e2cc5c0e",
    "language": "python"
   },
   "outputs": [
    {
     "ename": "NameError",
     "evalue": "name 'zip_code' is not defined",
     "output_type": "error",
     "traceback": [
      "\u001b[1;31m---------------------------------------------------------------------------\u001b[0m",
      "\u001b[1;31mNameError\u001b[0m                                 Traceback (most recent call last)",
      "Input \u001b[1;32mIn [19]\u001b[0m, in \u001b[0;36m<cell line: 4>\u001b[1;34m()\u001b[0m\n\u001b[0;32m      2\u001b[0m \u001b[38;5;28;01mglobal\u001b[39;00m dict_list\n\u001b[0;32m      3\u001b[0m \u001b[38;5;66;03m#filter out null zip_code and null neighborhood dictionaries\u001b[39;00m\n\u001b[1;32m----> 4\u001b[0m zc \u001b[38;5;241m=\u001b[39m \u001b[38;5;28mfilter\u001b[39m(\u001b[38;5;28;01mlambda\u001b[39;00m x: x \u001b[38;5;241m!=\u001b[39m \u001b[38;5;28;01mNone\u001b[39;00m, \u001b[43mzip_code\u001b[49m)\n\u001b[0;32m      5\u001b[0m nh \u001b[38;5;241m=\u001b[39m \u001b[38;5;28mfilter\u001b[39m(\u001b[38;5;28;01mlambda\u001b[39;00m x: x \u001b[38;5;241m!=\u001b[39m \u001b[38;5;28;01mNone\u001b[39;00m, neighborhood)\n\u001b[0;32m      7\u001b[0m \u001b[38;5;28mprint\u001b[39m(zc)\n",
      "\u001b[1;31mNameError\u001b[0m: name 'zip_code' is not defined"
     ]
    }
   ],
   "source": [
    "#part i\n",
    "global dict_list\n",
    "#filter out null zip_code and null neighborhood dictionaries\n",
    "zc = filter(lambda x: x != None, zip_code)\n",
    "nh = filter(lambda x: x != None, neighborhood)\n",
    "\n",
    "\n",
    "#calculate average responce, dispatch, and total time\n"
   ]
  },
  {
   "cell_type": "code",
   "execution_count": null,
   "metadata": {},
   "outputs": [],
   "source": [
    "#part ii\n",
    "# divide list of dictionaries into smaller list of dict by neighborhood\n",
    "# use lambda and reduce, find avg responce time/neighborhood\n",
    "# avg dispatch time/neighborhood\n",
    "# avg total time/neighborhood\n",
    "# store into a list of dictionaries\n",
    "# add dict item to include population for all of detroit"
   ]
  },
  {
   "cell_type": "code",
   "execution_count": null,
   "metadata": {},
   "outputs": [],
   "source": [
    "#part iii\n",
    "#create output JSON file"
   ]
  },
  {
   "cell_type": "code",
   "execution_count": 18,
   "metadata": {},
   "outputs": [],
   "source": [
    "#part iv\n",
    "# read JSON into excel\n",
    "# use t-test to examine neighborhood differences between times\n",
    "# write investigation"
   ]
  }
 ],
 "metadata": {
  "kernelspec": {
   "display_name": "Python 3 (ipykernel)",
   "language": "python",
   "name": "python3"
  },
  "language_info": {
   "codemirror_mode": {
    "name": "ipython",
    "version": 3
   },
   "file_extension": ".py",
   "mimetype": "text/x-python",
   "name": "python",
   "nbconvert_exporter": "python",
   "pygments_lexer": "ipython3",
   "version": "3.9.12"
  }
 },
 "nbformat": 4,
 "nbformat_minor": 2
}
